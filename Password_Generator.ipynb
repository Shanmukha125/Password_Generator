{
 "cells": [
  {
   "cell_type": "code",
   "execution_count": 26,
   "id": "6ebb1b4a-de6b-43dd-a4b1-6d96fcce0dd2",
   "metadata": {},
   "outputs": [
    {
     "name": "stdin",
     "output_type": "stream",
     "text": [
      "Enter the desired password length:  0\n"
     ]
    },
    {
     "name": "stdout",
     "output_type": "stream",
     "text": [
      "Password length must be greater than 0.\n"
     ]
    }
   ],
   "source": [
    "#Import required libraries like string and random\n",
    "#string:To access character sets like letters(A-Z,a-z),digits(0-9),special characters(!,@,#,$,%,*,{,})\n",
    "#random:for generating random characters\n",
    "import random\n",
    "import string\n",
    "\n",
    "def generate_password(length, uppercase, lowercase, digits, symbols):\n",
    "    # Available character sets\n",
    "    character_pool = \"\"\n",
    "    if uppercase:\n",
    "        character_pool += string.ascii_uppercase\n",
    "    if lowercase:\n",
    "        character_pool += string.ascii_lowercase\n",
    "    if digits:\n",
    "        character_pool += string.digits\n",
    "    if symbols:\n",
    "        character_pool += string.punctuation\n",
    "    \n",
    "    # Check if at least one character set is selected\n",
    "    if not character_pool:\n",
    "        raise ValueError(\"At least one character type should be selected.\")\n",
    "    \n",
    "    # Generate the password by randomly selecting from the pool\n",
    "    password = ''.join(random.choice(character_pool) for _ in range(length))\n",
    "    \n",
    "    return password\n",
    "\n",
    "# Get user input for password criteria\n",
    "try:\n",
    "    password_length = int(input(\"Enter the desired password length: \"))\n",
    "    if password_length>0:\n",
    "        uppercase = input(\"Include uppercase letters? (yes/no): \").lower() == \"yes\"\n",
    "        lowercase = input(\"Include lowercase letters? (yes/no): \").lower() == \"yes\"\n",
    "        digits = input(\"Include digits? (yes/no): \").lower() == \"yes\"\n",
    "        symbols = input(\"Include symbols? (yes/no): \").lower() == \"yes\"\n",
    "# Generate and display the password\n",
    "        generated_password = generate_password(length, uppercase, lowercase, digits, symbols)\n",
    "        print(f\"Generated Password: {generated_password}\")\n",
    "    else:\n",
    "        print(\"Password length must be greater than 0.\")\n",
    "        \n",
    "except ValueError as e:\n",
    "    print(f\"Error: {e}\")\n"
   ]
  },
  {
   "cell_type": "code",
   "execution_count": 28,
   "id": "41ada024-da74-4857-9bdc-c1e2f02aeeba",
   "metadata": {},
   "outputs": [
    {
     "name": "stdin",
     "output_type": "stream",
     "text": [
      "Enter the desired password length:  10\n",
      "Include uppercase letters? (yes/no):  yes\n",
      "Include lowercase letters? (yes/no):  yes\n",
      "Include digits? (yes/no):  yes\n",
      "Include symbols? (yes/no):  yes\n"
     ]
    },
    {
     "name": "stdout",
     "output_type": "stream",
     "text": [
      "Generated Password: D?sY`Nph\\5\n"
     ]
    }
   ],
   "source": [
    "#Import required libraries like string and random\n",
    "#string:To access character sets like letters(A-Z,a-z),digits(0-9),special characters(!,@,#,$,%,*,{,})\n",
    "#random:for generating random characters\n",
    "import random\n",
    "import string\n",
    "\n",
    "def generate_password(length, uppercase, lowercase, digits, symbols):\n",
    "    # Available character sets\n",
    "    character_pool = \"\"\n",
    "    if uppercase:\n",
    "        character_pool += string.ascii_uppercase\n",
    "    if lowercase:\n",
    "        character_pool += string.ascii_lowercase\n",
    "    if digits:\n",
    "        character_pool += string.digits\n",
    "    if symbols:\n",
    "        character_pool += string.punctuation\n",
    "    \n",
    "    # Check if at least one character set is selected\n",
    "    if not character_pool:\n",
    "        raise ValueError(\"At least one character type should be selected.\")\n",
    "    \n",
    "    # Generate the password by randomly selecting from the pool\n",
    "    password = ''.join(random.choice(character_pool) for _ in range(length))\n",
    "    \n",
    "    return password\n",
    "\n",
    "# Get user input for password criteria\n",
    "try:\n",
    "    password_length = int(input(\"Enter the desired password length: \"))\n",
    "    if password_length>0:\n",
    "        uppercase = input(\"Include uppercase letters? (yes/no): \").lower() == \"yes\"\n",
    "        lowercase = input(\"Include lowercase letters? (yes/no): \").lower() == \"yes\"\n",
    "        digits = input(\"Include digits? (yes/no): \").lower() == \"yes\"\n",
    "        symbols = input(\"Include symbols? (yes/no): \").lower() == \"yes\"\n",
    "# Generate and display the password\n",
    "        generated_password = generate_password(password_length, uppercase, lowercase, digits, symbols)\n",
    "        print(f\"Generated Password: {generated_password}\")\n",
    "    else:\n",
    "        print(\"Password length must be greater than 0.\")\n",
    "        \n",
    "except ValueError as e:\n",
    "    print(f\"Error: {e}\")\n"
   ]
  },
  {
   "cell_type": "code",
   "execution_count": 32,
   "id": "7e5b49e9-d6eb-4a4a-919c-e583794542b9",
   "metadata": {},
   "outputs": [
    {
     "name": "stdin",
     "output_type": "stream",
     "text": [
      "Enter the desired password length:  12\n",
      "Include uppercase letters? (yes/no):  no\n",
      "Include lowercase letters? (yes/no):  yes\n",
      "Include digits? (yes/no):  yes\n",
      "Include symbols? (yes/no):  yes\n"
     ]
    },
    {
     "name": "stdout",
     "output_type": "stream",
     "text": [
      "Generated Password: '8os}mi))(4z\n"
     ]
    }
   ],
   "source": [
    "#Import required libraries like string and random\n",
    "#string:To access character sets like letters(A-Z,a-z),digits(0-9),special characters(!,@,#,$,%,*,{,})\n",
    "#random:for generating random characters\n",
    "import random\n",
    "import string\n",
    "\n",
    "def generate_password(length, uppercase, lowercase, digits, symbols):\n",
    "    # Available character sets\n",
    "    character_pool = \"\"\n",
    "    if uppercase:\n",
    "        character_pool += string.ascii_uppercase\n",
    "    if lowercase:\n",
    "        character_pool += string.ascii_lowercase\n",
    "    if digits:\n",
    "        character_pool += string.digits\n",
    "    if symbols:\n",
    "        character_pool += string.punctuation\n",
    "    \n",
    "    # Check if at least one character set is selected\n",
    "    if not character_pool:\n",
    "        raise ValueError(\"At least one character type should be selected.\")\n",
    "    \n",
    "    # Generate the password by randomly selecting from the pool\n",
    "    password = ''.join(random.choice(character_pool) for _ in range(length))\n",
    "    \n",
    "    return password\n",
    "\n",
    "# Get user input for password criteria\n",
    "try:\n",
    "    password_length = int(input(\"Enter the desired password length: \"))\n",
    "    if password_length>0:\n",
    "        uppercase = input(\"Include uppercase letters? (yes/no): \").lower() == \"yes\"\n",
    "        lowercase = input(\"Include lowercase letters? (yes/no): \").lower() == \"yes\"\n",
    "        digits = input(\"Include digits? (yes/no): \").lower() == \"yes\"\n",
    "        symbols = input(\"Include symbols? (yes/no): \").lower() == \"yes\"\n",
    "# Generate and display the password\n",
    "        generated_password = generate_password(password_length, uppercase, lowercase, digits, symbols)\n",
    "        print(f\"Generated Password: {generated_password}\")\n",
    "    else:\n",
    "        print(\"Password length must be greater than 0.\")\n",
    "        \n",
    "except ValueError as e:\n",
    "    print(f\"Error: {e}\")\n"
   ]
  },
  {
   "cell_type": "code",
   "execution_count": 36,
   "id": "381ec825-7f2c-4ee8-bcc5-2b21fee46600",
   "metadata": {},
   "outputs": [
    {
     "name": "stdin",
     "output_type": "stream",
     "text": [
      "Enter the desired password length:  12\n",
      "Include uppercase letters? (yes/no):  yes\n",
      "Include lowercase letters? (yes/no):  no\n",
      "Include digits? (yes/no):  yes\n",
      "Include symbols? (yes/no):  no\n"
     ]
    },
    {
     "name": "stdout",
     "output_type": "stream",
     "text": [
      "Generated Password: RMPZGB7VVK67\n"
     ]
    }
   ],
   "source": [
    "#Import required libraries like string and random\n",
    "#string:To access character sets like letters(A-Z,a-z),digits(0-9),special characters(!,@,#,$,%,*,{,})\n",
    "#random:for generating random characters\n",
    "import random\n",
    "import string\n",
    "\n",
    "def generate_password(length, uppercase, lowercase, digits, symbols):\n",
    "    # Available character sets\n",
    "    character_pool = \"\"\n",
    "    if uppercase:\n",
    "        character_pool += string.ascii_uppercase\n",
    "    if lowercase:\n",
    "        character_pool += string.ascii_lowercase\n",
    "    if digits:\n",
    "        character_pool += string.digits\n",
    "    if symbols:\n",
    "        character_pool += string.punctuation\n",
    "    \n",
    "    # Check if at least one character set is selected\n",
    "    if not character_pool:\n",
    "        raise ValueError(\"At least one character type should be selected.\")\n",
    "    \n",
    "    # Generate the password by randomly selecting from the pool\n",
    "    password = ''.join(random.choice(character_pool) for _ in range(length))\n",
    "    \n",
    "    return password\n",
    "\n",
    "# Get user input for password criteria\n",
    "try:\n",
    "    password_length = int(input(\"Enter the desired password length: \"))\n",
    "    if password_length>0:\n",
    "        uppercase = input(\"Include uppercase letters? (yes/no): \").lower() == \"yes\"\n",
    "        lowercase = input(\"Include lowercase letters? (yes/no): \").lower() == \"yes\"\n",
    "        digits = input(\"Include digits? (yes/no): \").lower() == \"yes\"\n",
    "        symbols = input(\"Include symbols? (yes/no): \").lower() == \"yes\"\n",
    "# Generate and display the password\n",
    "        generated_password = generate_password(password_length, uppercase, lowercase, digits, symbols)\n",
    "        print(f\"Generated Password: {generated_password}\")\n",
    "    else:\n",
    "        print(\"Password length must be greater than 0.\")\n",
    "        \n",
    "except ValueError as e:\n",
    "    print(f\"Error: {e}\")\n"
   ]
  },
  {
   "cell_type": "code",
   "execution_count": null,
   "id": "22cb4faa-8fa7-44d5-a081-f3f846fdddeb",
   "metadata": {},
   "outputs": [],
   "source": []
  },
  {
   "cell_type": "code",
   "execution_count": null,
   "id": "1febb16e-94fd-432a-a00e-bba7f0eaf041",
   "metadata": {},
   "outputs": [],
   "source": []
  }
 ],
 "metadata": {
  "kernelspec": {
   "display_name": "Python 3 (ipykernel)",
   "language": "python",
   "name": "python3"
  },
  "language_info": {
   "codemirror_mode": {
    "name": "ipython",
    "version": 3
   },
   "file_extension": ".py",
   "mimetype": "text/x-python",
   "name": "python",
   "nbconvert_exporter": "python",
   "pygments_lexer": "ipython3",
   "version": "3.12.4"
  }
 },
 "nbformat": 4,
 "nbformat_minor": 5
}
